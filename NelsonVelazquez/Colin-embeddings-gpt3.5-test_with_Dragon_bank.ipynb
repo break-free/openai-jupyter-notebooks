{
 "cells": [
  {
   "cell_type": "markdown",
   "id": "206adbcb-13a0-492f-96af-713182f10a45",
   "metadata": {
    "tags": []
   },
   "source": [
    "## CODE BLOCK 1\n",
    "\n",
    "### Description\n",
    "pip installs the library for OpenAI."
   ]
  },
  {
   "cell_type": "code",
   "execution_count": null,
   "id": "15e47628-f60b-401e-bf0c-f31b111443e2",
   "metadata": {
    "tags": []
   },
   "outputs": [],
   "source": [
    "!pip install openai"
   ]
  },
  {
   "cell_type": "markdown",
   "id": "fbe87cc7-f98c-4214-8d68-6b94f7526724",
   "metadata": {
    "tags": []
   },
   "source": [
    "## CODE BLOCK 2\n",
    "\n",
    "### Description\n",
    "Sets up the importation of Python code libraries and sets up environment variables:\n",
    "- OpenAPI key setup\n",
    "- Code repository location"
   ]
  },
  {
   "cell_type": "code",
   "execution_count": null,
   "id": "3b67eb35-2369-4537-9de2-14037422de70",
   "metadata": {
    "tags": []
   },
   "outputs": [],
   "source": [
    "# Import libraries\n",
    "import os\n",
    "from glob import glob\n",
    "import pandas as pd\n",
    "import openai\n",
    "from openai.embeddings_utils import get_embedding\n",
    "\n",
    "# Set OpenAI API key\n",
    "with open('openai-key.txt', 'r') as f:\n",
    "    key = f.read().strip()\n",
    "\n",
    "os.environ['OPENAI_API_KEY'] = key\n",
    "\n",
    "# Set location of code repo\n",
    "repoFolder = \"code/\"\n",
    "#repoFolder = \"openai-cookbook\"\n",
    "\n",
    "# Set code file extension type\n",
    "extType = \"py\"\n",
    "\n",
    "# Set the OpenAI key path\n",
    "openai.api_key_path = 'openai-key.txt'"
   ]
  },
  {
   "cell_type": "markdown",
   "id": "fb5353d2-bff7-4ae8-a72c-e651de3505a3",
   "metadata": {
    "tags": []
   },
   "source": [
    "## CODE BLOCK 3\n",
    "\n",
    "### Description\n",
    "Defines the functions for creating the dataframe for Python repositories broken down by individual functions\n"
   ]
  },
  {
   "cell_type": "code",
   "execution_count": null,
   "id": "28a056e1-2f4b-49f6-9b52-d3cd9adc2af6",
   "metadata": {
    "tags": []
   },
   "outputs": [],
   "source": [
    "# Functions to create dataframe for Python repos broken down by individual functions\n",
    "\n",
    "def get_function_name(code):\n",
    "    \"\"\"\n",
    "    Extract function name from a line beginning with \"def \"\n",
    "    \"\"\"\n",
    "    assert code.startswith(\"def \")\n",
    "    return code[len(\"def \"): code.index(\"(\")]\n",
    "\n",
    "def get_until_no_space(all_lines, i) -> str:\n",
    "    \"\"\"\n",
    "    Get all lines until a line outside the function definition is found.\n",
    "    \"\"\"\n",
    "    ret = [all_lines[i]]\n",
    "    for j in range(i + 1, i + 10000):\n",
    "        if j < len(all_lines):\n",
    "            if len(all_lines[j]) == 0 or all_lines[j][0] in [\" \", \"\\t\", \")\"]:\n",
    "                ret.append(all_lines[j])\n",
    "            else:\n",
    "                break\n",
    "    return \"\\n\".join(ret)\n",
    "\n",
    "def get_functions(filepath):\n",
    "    \"\"\"\n",
    "    Get all functions in a Python file.\n",
    "    \"\"\"\n",
    "    whole_code = open(filepath).read().replace(\"\\r\", \"\\n\")\n",
    "    all_lines = whole_code.split(\"\\n\")\n",
    "    for i, l in enumerate(all_lines):\n",
    "        if l.startswith(\"def \"):\n",
    "            code = get_until_no_space(all_lines, i)\n",
    "            function_name = get_function_name(code)\n",
    "            yield {\"code\": code, \"function_name\": function_name, \"filepath\": filepath}"
   ]
  },
  {
   "cell_type": "markdown",
   "id": "07d2cca3-e8af-45f1-95b3-61e604df3a13",
   "metadata": {},
   "source": [
    "## CODE BLOCK 4\n",
    "\n",
    "### Description\n",
    "Creates the pandas dataframe to perform code embedding"
   ]
  },
  {
   "cell_type": "code",
   "execution_count": null,
   "id": "3352bcb1-13fb-490e-bc6b-7a2c76c44e0e",
   "metadata": {
    "tags": []
   },
   "outputs": [],
   "source": [
    "# Create dataframe for code embedding\n",
    "\n",
    "code_root = repoFolder\n",
    "\n",
    "code_files = [y for x in os.walk(code_root) for y in glob(os.path.join(x[0], f\"*.{extType}\"))]\n",
    "print(f\"Total number of {extType} files:\", len(code_files))\n",
    "\n",
    "if extType == \"py\":\n",
    "    all_funcs = []\n",
    "    for code_file in code_files:\n",
    "        funcs = list(get_functions(code_file))\n",
    "        for func in funcs:\n",
    "            all_funcs.append(func)\n",
    "\n",
    "    print(\"Total number of functions extracted:\", len(all_funcs))\n",
    "\n",
    "else:\n",
    "    all_funcs = []\n",
    "    for code_file in code_files:\n",
    "        whole_code = open(code_file).read().replace(\"\\r\", \"\\n\")\n",
    "        all_funcs.append({\"code\": whole_code, \"filepath\": code_file})\n",
    "\n",
    "df = pd.DataFrame(all_funcs)\n",
    "df\n",
    "\n",
    "# test = pd.DataFrame(all_funcs)\n",
    "# df = test.head()\n",
    "\n",
    "# df"
   ]
  },
  {
   "cell_type": "markdown",
   "id": "ecc03556-c86c-4a41-bede-22b562abdc39",
   "metadata": {},
   "source": [
    "## CODE BLOCK 5\n",
    "\n",
    "### Description\n",
    "Create CSV file representing the correlation between each function of code and what the model (currently text-embedding-ada-002) believes it knows about the code.  It calculates the embeddings for code snippets in the 'code' column of the DataFrame using the 'text-embedding-ada-002' engine. It then saves the DataFrame to a CSV file and displays the initial rows of the DataFrame."
   ]
  },
  {
   "cell_type": "code",
   "execution_count": null,
   "id": "656594f4-f62a-4bbd-a91f-b2f1c373f629",
   "metadata": {
    "tags": []
   },
   "outputs": [],
   "source": [
    "from openai.embeddings_utils import get_embedding\n",
    "import warnings\n",
    "warnings.filterwarnings(\"ignore\")\n",
    "\n",
    "df['code_embedding'] = df['code'].apply(lambda x: get_embedding(x, engine='text-embedding-ada-002'))\n",
    "if extType == \"py\":\n",
    "    df['filepath'] = df['filepath'].apply(lambda x: x.replace(code_root, \"\"))\n",
    "df.to_csv(\"code_search_openai-python.csv\", index=False)\n",
    "df.head()"
   ]
  },
  {
   "cell_type": "markdown",
   "id": "a2a02ab1-51a6-4979-8ccd-93c5be717c80",
   "metadata": {},
   "source": [
    "## CODE BLOCK 6\n",
    "\n",
    "### Description\n",
    "This code implements a function that performs a similarity search between a given code_query, i.e., an ask, and a DataFrame containing code snippets. It calculates the cosine similarity between the query and each code snippet, ranks them based on similarity, and returns the top 3 matches. "
   ]
  },
  {
   "cell_type": "code",
   "execution_count": null,
   "id": "5e5d22b9-b3bb-479e-b1fb-c7ed278f4a63",
   "metadata": {
    "tags": []
   },
   "outputs": [],
   "source": [
    "from openai.embeddings_utils import cosine_similarity\n",
    "\n",
    "def search_functions(df, code_query, n=3, pprint=False, n_lines=7):\n",
    "    pprint = True\n",
    "    embedding = get_embedding(code_query, engine='text-embedding-ada-002')\n",
    "    df['similarities'] = df.code_embedding.apply(lambda x: cosine_similarity(x, embedding))\n",
    "\n",
    "    res = df.sort_values('similarities', ascending=False).head(n)\n",
    "    if pprint:\n",
    "        for r in res.iterrows():\n",
    "            print(r[1].filepath+\":\"+r[1].function_name + \"  score=\" + str(round(r[1].similarities, 3)))\n",
    "            print(\"\\n\".join(r[1].code.split(\"\\n\")[:n_lines]))\n",
    "            print('-'*70)\n",
    "    return res\n",
    "\n",
    "#res = search_functions(df, 'Write unit tests for the perform_transaction function', n=3)\n",
    "\n"
   ]
  },
  {
   "cell_type": "markdown",
   "id": "6321d8ec-aa1c-46d8-89d5-5d409fde4bea",
   "metadata": {},
   "source": [
    "## CODE BLOCK 7\n",
    "\n",
    "### Description\n",
    "Defines functions to print messages sent to or from GPT"
   ]
  },
  {
   "cell_type": "code",
   "execution_count": null,
   "id": "bd085897-1717-4bf3-ae30-ed606aa99370",
   "metadata": {
    "tags": []
   },
   "outputs": [],
   "source": [
    "color_prefix_by_role = {\n",
    "    \"system\": \"\\033[0m\",  # gray\n",
    "    \"user\": \"\\033[0m\",  # gray\n",
    "    \"assistant\": \"\\033[92m\",  # green\n",
    "}\n",
    "\n",
    "\n",
    "def print_messages(messages, color_prefix_by_role=color_prefix_by_role) -> None:\n",
    "    \"\"\"Prints messages sent to or from GPT.\"\"\"\n",
    "    for message in messages:\n",
    "        role = message[\"role\"]\n",
    "        color_prefix = color_prefix_by_role[role]\n",
    "        content = message[\"content\"]\n",
    "        print(f\"{color_prefix}\\n[{role}]\\n{content}\")\n",
    "\n",
    "\n",
    "def print_message_delta(delta, color_prefix_by_role=color_prefix_by_role) -> None:\n",
    "    \"\"\"Prints a chunk of messages streamed back from GPT.\"\"\"\n",
    "    if \"role\" in delta:\n",
    "        role = delta[\"role\"]\n",
    "        color_prefix = color_prefix_by_role[role]\n",
    "        print(f\"{color_prefix}\\n[{role}]\\n\", end=\"\")\n",
    "    elif \"content\" in delta:\n",
    "        content = delta[\"content\"]\n",
    "        print(content, end=\"\")\n",
    "    else:\n",
    "        pass"
   ]
  },
  {
   "cell_type": "markdown",
   "id": "3bfcf921-3f84-481c-88a9-9cc20749fdf6",
   "metadata": {},
   "source": [
    "## CODE BLOCK 8\n",
    "\n",
    "### Description\n",
    "performs a code search, generates a message with the query and code context, sends it to the GPT model for response generation, and returns the generated response as an empty string."
   ]
  },
  {
   "cell_type": "code",
   "execution_count": null,
   "id": "7755535a-f169-4178-be4d-c3cbc453c034",
   "metadata": {
    "tags": []
   },
   "outputs": [],
   "source": [
    "def ask(\n",
    "    query: str,\n",
    "    df: pd.DataFrame = df,\n",
    "    model: str = \"gpt-3.5-turbo\",\n",
    "    print_message: bool = True,\n",
    ") -> str:\n",
    "    \"\"\"Answers a query using GPT and a dataframe of relevant texts and embeddings.\"\"\"\n",
    "    res = search_functions(df, query, n=3)\n",
    "\n",
    "    # Loop through each row of the dataframe\n",
    "    context = \"\"\n",
    "    for index, row in res.iterrows():\n",
    "        # Access the value in the 'column_name' column for the current row\n",
    "        filePath = row['filepath']\n",
    "        code = row['code']\n",
    "        combined = f'''\\n\\nCode File Location: {filePath}\\nCode: {code}'''\n",
    "        context = context + combined\n",
    "    \n",
    "    message = f'''\n",
    "    Use the below code to respond to this prompt: {query}\n",
    "    {context}\n",
    "    '''\n",
    "\n",
    "    messages = [\n",
    "        {\"role\": \"system\", \"content\": \"You are a world-class developer with an eagle eye for unintended bugs and edge cases. You carefully explain code with great detail and accuracy. You organize your explanations in markdown-formatted, bulleted lists.\"},\n",
    "        {\"role\": \"user\", \"content\": message},\n",
    "    ]\n",
    "    response = openai.ChatCompletion.create(\n",
    "        model=model,\n",
    "        messages=messages,\n",
    "        temperature=0.5,\n",
    "        stream=True\n",
    "    )\n",
    "    \n",
    "    execution = \"\"\n",
    "    for chunk in response:\n",
    "        delta = chunk[\"choices\"][0][\"delta\"]\n",
    "        if print_message:\n",
    "            print_message_delta(delta)\n",
    "        if \"content\" in delta:\n",
    "            execution += delta[\"content\"]\n",
    "    \n",
    "    #response_message = response[\"choices\"][0][\"message\"][\"content\"]\n",
    "    response_message = \"\"\n",
    "    return response_message"
   ]
  },
  {
   "cell_type": "code",
   "execution_count": null,
   "id": "e401eec5-43a4-4691-849f-c98bb0de373e",
   "metadata": {
    "tags": []
   },
   "outputs": [],
   "source": [
    "response = ask('Write unit tests for the perform_transaction function.')"
   ]
  },
  {
   "cell_type": "code",
   "execution_count": null,
   "id": "c6540064-9195-426c-9a6b-4314b01d1a79",
   "metadata": {
    "tags": []
   },
   "outputs": [],
   "source": [
    "response = ask('Write unit test code for the perform_transaction function. Consider if the sender and receiver accounts does not exist.  If they do not exist, create them')"
   ]
  },
  {
   "cell_type": "code",
   "execution_count": null,
   "id": "1abcd3af-e958-4a89-854d-e42142052eb5",
   "metadata": {
    "tags": []
   },
   "outputs": [],
   "source": [
    "response = ask('Write unit test code for the perform_transaction function. Only include tests for edge cases')"
   ]
  },
  {
   "cell_type": "code",
   "execution_count": null,
   "id": "3b34cce5-6baa-4454-9172-4a69ed7ee1c4",
   "metadata": {},
   "outputs": [],
   "source": [
    "response = ask('Write unit test code for the perform_transaction function. Only include tests for edge cases')"
   ]
  }
 ],
 "metadata": {
  "kernelspec": {
   "display_name": "conda_python3",
   "language": "python",
   "name": "conda_python3"
  },
  "language_info": {
   "codemirror_mode": {
    "name": "ipython",
    "version": 3
   },
   "file_extension": ".py",
   "mimetype": "text/x-python",
   "name": "python",
   "nbconvert_exporter": "python",
   "pygments_lexer": "ipython3",
   "version": "3.10.8"
  }
 },
 "nbformat": 4,
 "nbformat_minor": 5
}
